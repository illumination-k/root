{
 "cells": [
  {
   "cell_type": "code",
   "execution_count": 26,
   "metadata": {},
   "outputs": [],
   "source": [
    "import os\n",
    "from json import load\n",
    "import numpy as np\n",
    "from PIL import Image"
   ]
  },
  {
   "cell_type": "markdown",
   "metadata": {},
   "source": [
    "# 各種関数の定義\n",
    "- load_image: 画像を読み込んで中心をクロップし、224,224にリサイズしたPILデータを返す\n",
    "- get_data: テストデータと学習データの一覧をJSONファイルから読み込む 猫：１、犬：０\n",
    "- save_crop_image: 中心をクロップしたイメージを./simple_crop/(test_data or train_data)/imagesに保存し、  \n",
    "それらのファイル名とラベルを./simple_crop/(test_data or train_data)/(test or train) \\_labeled.csvとして保存する  \n",
    "(ChainerのLabeledImageDataset用)\n",
    "    "
   ]
  },
  {
   "cell_type": "code",
   "execution_count": 30,
   "metadata": {},
   "outputs": [],
   "source": [
    "def load_image(file, size=(224,224)):\n",
    "    path='./images/'+file\n",
    "    img=Image.open(path)\n",
    "    #３次元配列じゃないのが混ざっているのでとりあえず全部RGBにする\n",
    "    img=img.convert('RGB')\n",
    "    w,h=img.size\n",
    "    w_c, h_c=w//2, h//2\n",
    "    half_short_side=min(w_c, h_c)\n",
    "    x0=w_c-half_short_side\n",
    "    y0=h_c-half_short_side\n",
    "    x1=w_c+half_short_side\n",
    "    y1=h_c+half_short_side\n",
    "    img=img.crop((x0,y0,x1,y1))\n",
    "    img=img.resize(size)\n",
    "    return img\n",
    "\n",
    "def get_data(kind):\n",
    "    path='./'+kind+'.json'\n",
    "    with open (path) as f:\n",
    "        df=load(f)\n",
    "    \n",
    "    data=[]\n",
    "    for k0, v0 in df.items():\n",
    "        for k1, v1 in df[k0].items():\n",
    "            for file in df[k0][k1]['images']:\n",
    "                file=file+'.jpg'\n",
    "                if k0=='cat':\n",
    "                    data.append([file, 1])\n",
    "                else:\n",
    "                    data.append([file, 0])\n",
    "    return np.array(data)\n",
    "\n",
    "def save_crop_image(data, kind):\n",
    "    path='./simple_crop/'+kind+'/'\n",
    "    dir_path=path+'images'\n",
    "    os.makedirs(dir_path, exist_ok=True)\n",
    "    for file, label in data:\n",
    "        img=load_image(file)\n",
    "        file_path=path+'images'+file\n",
    "        label_path=path+kind+'_labeled.csv'\n",
    "        img.save(file_path)\n",
    "        with open (label_path, 'a') as f:\n",
    "            added_sentence=file+' '+str(label)+'\\n'\n",
    "            f.write(added_sentence)"
   ]
  },
  {
   "cell_type": "code",
   "execution_count": 19,
   "metadata": {},
   "outputs": [],
   "source": [
    "# データの読み込み\n",
    "train_data=get_data('train')\n",
    "test_data=get_data('test')"
   ]
  },
  {
   "cell_type": "markdown",
   "metadata": {},
   "source": [
    "複数回使うとデータが重複するのでコメントアウト"
   ]
  },
  {
   "cell_type": "code",
   "execution_count": 31,
   "metadata": {},
   "outputs": [],
   "source": [
    "#save_crop_image(train_data, 'train_data')\n",
    "#save_crop_image(test_data, 'test_data')"
   ]
  }
 ],
 "metadata": {
  "kernelspec": {
   "display_name": "Environment (conda_chainer_p36)",
   "language": "python",
   "name": "conda_chainer_p36"
  },
  "language_info": {
   "codemirror_mode": {
    "name": "ipython",
    "version": 3
   },
   "file_extension": ".py",
   "mimetype": "text/x-python",
   "name": "python",
   "nbconvert_exporter": "python",
   "pygments_lexer": "ipython3",
   "version": "3.6.5"
  }
 },
 "nbformat": 4,
 "nbformat_minor": 2
}
