{
 "cells": [
  {
   "cell_type": "code",
   "execution_count": 1,
   "metadata": {},
   "outputs": [],
   "source": [
    "import os\n",
    "from json import load\n",
    "import numpy as np\n",
    "import cupy as cp\n",
    "import matplotlib.pyplot as plt\n",
    "import seaborn as sns\n",
    "\n",
    "import chainer\n",
    "import chainer.links as L\n",
    "import chainer.functions as F\n",
    "from chainer import cuda\n",
    "from chainer import optimizers\n",
    "from chainer import iterators\n",
    "from chainer import training\n",
    "from chainer.training import extensions\n",
    "from chainer import datasets\n",
    "from chainer.datasets import TransformDataset\n",
    "from chainer.datasets import LabeledImageDataset\n",
    "from functools import partial\n",
    "from chainercv import transforms"
   ]
  },
  {
   "cell_type": "code",
   "execution_count": 2,
   "metadata": {},
   "outputs": [],
   "source": [
    "train = LabeledImageDataset('/home/ubuntu/intern-winter-2019/dataset/simple_crop/train_data/train_label.csv',\n",
    "                            '/home/ubuntu/intern-winter-2019/dataset/simple_crop/train_data/images/',dtype=np.float32)\n",
    "test = LabeledImageDataset('/home/ubuntu/intern-winter-2019/dataset/simple_crop/test_data/test_label.csv',\n",
    "                            '/home/ubuntu/intern-winter-2019/dataset/simple_crop/test_data/images/',dtype=np.float32)\n",
    "\n",
    "def transform(data, train='False'):\n",
    "    img, label = data\n",
    "    img = img.copy()\n",
    "    # Random flip & crop\n",
    "    if train and label==0:\n",
    "        img = transforms.random_flip(img, x_random=True)\n",
    "        img = transforms.random_expand(img, max_ratio=1.5)\n",
    "        img = transforms.random_crop(img, (26, 26))\n",
    "    img=np.array(img, dtype=np.float32)\n",
    "    img=L.model.vision.vgg.prepare(img)\n",
    "\n",
    "    return img, label\n",
    "\n",
    "train_dataset = TransformDataset(train, partial(transform, train=True))\n",
    "test_dataset = TransformDataset(test, partial(transform, train=False))"
   ]
  },
  {
   "cell_type": "code",
   "execution_count": 3,
   "metadata": {},
   "outputs": [],
   "source": [
    "class Model(chainer.Chain):\n",
    "    def __init__(self, dim=2):\n",
    "        super(Model, self).__init__()\n",
    "        with self.init_scope():\n",
    "            self.vgg=L.VGG16Layers()\n",
    "            self.fc1=L.Linear(None, 500)\n",
    "            self.fc=L.Linear(None, dim)\n",
    "            \n",
    "    def __call__(self, x, train=False):\n",
    "        with chainer.using_config('train', train):\n",
    "            h=self.vgg(x, layers=['fc7'])['fc7']\n",
    "            h=self.fc1(h)\n",
    "            h=F.relu(h)\n",
    "            h=F.normalize(h)*50\n",
    "            y=self.fc(h)\n",
    "        return y\n",
    "    \n",
    "class SoftMaxEntoropyLoss(chainer.Chain):\n",
    "    def __init__(self, model):\n",
    "        super(SoftMaxEntoropyLoss, self).__init__()\n",
    "        with self.init_scope():\n",
    "            self.model = model\n",
    "\n",
    "    def __call__(self, x, t):\n",
    "        y = self.model(x)\n",
    "        loss = F.softmax_cross_entropy(y, t)\n",
    "        accuracy = F.accuracy(y, t)\n",
    "        summary = F.classification_summary(y, t, beta = 1.0)\n",
    "        precision = summary[0]\n",
    "        recall = summary[1]\n",
    "        f_value = summary[2]\n",
    "        precision_dict=dict(('precision_%d' % i, val) for i, val in enumerate(summary[0]))\n",
    "        recall_dict=dict(('recall_%d' % i, val) for i, val in enumerate(summary[1]))\n",
    "        f_value_dict=dict(('f_value_%d' % i, val) for i, val in enumerate(summary[2]))\n",
    "        main_dict={'loss':loss, 'accuracy':accuracy}\n",
    "        main_dict.update(precision_dict)\n",
    "        main_dict.update(recall_dict)\n",
    "        main_dict.update(f_value_dict)\n",
    "        chainer.report(main_dict, self)\n",
    "        return loss"
   ]
  },
  {
   "cell_type": "code",
   "execution_count": 4,
   "metadata": {},
   "outputs": [],
   "source": [
    "# VGG16の初期化 modelの作成\n",
    "vgg = L.VGG16Layers()"
   ]
  },
  {
   "cell_type": "code",
   "execution_count": 5,
   "metadata": {},
   "outputs": [],
   "source": [
    "model=Model()\n",
    "loss=SoftMaxEntoropyLoss(model)"
   ]
  },
  {
   "cell_type": "code",
   "execution_count": 6,
   "metadata": {},
   "outputs": [],
   "source": [
    "n_epoch = 10\n",
    "batchsize = 32\n",
    "out_dir = './result/'\n",
    "report_interval = (10, 'iteration')\n",
    "\n",
    "train_iter = iterators.MultithreadIterator\\\n",
    "(train_dataset, batchsize, repeat=True, shuffle=True)\n",
    "test_iter = iterators.MultithreadIterator\\\n",
    "(test_dataset, batchsize, repeat=False, shuffle=False)"
   ]
  },
  {
   "cell_type": "code",
   "execution_count": 7,
   "metadata": {},
   "outputs": [
    {
     "data": {
      "text/plain": [
       "<chainer.optimizers.adam.Adam at 0x7fd368f23b70>"
      ]
     },
     "execution_count": 7,
     "metadata": {},
     "output_type": "execute_result"
    }
   ],
   "source": [
    "#finetuneなのでMomentumSDG\n",
    "optimizer = chainer.optimizers.Adam(alpha=1e-3, amsgrad=True)\n",
    "optimizer.setup(loss)"
   ]
  },
  {
   "cell_type": "code",
   "execution_count": 8,
   "metadata": {},
   "outputs": [],
   "source": [
    "#device=0でGPU, device=-1でCPU\n",
    "updater = training.StandardUpdater(train_iter, optimizer, device=0)"
   ]
  },
  {
   "cell_type": "code",
   "execution_count": 9,
   "metadata": {},
   "outputs": [],
   "source": [
    "trainer = training.Trainer(updater, (n_epoch, 'epoch'), out=out_dir)\n",
    "\n",
    "trainer.extend(extensions.LogReport(trigger=report_interval))\n",
    "trainer.extend(extensions.PrintReport(['epoch', \n",
    "                                       'iteration', \n",
    "                                       'main/loss',\n",
    "                                       'main/accuracy', \n",
    "                                       'main/precision_0', \n",
    "                                       'main/precision_1',\n",
    "                                       'main/recall_0',\n",
    "                                       'main/recall_1']),\n",
    "               trigger=report_interval)\n",
    "trainer.extend(extensions.PlotReport(y_keys='main/loss', trigger=report_interval, file_name='vgg16_loss_plot_dog.png'))\n",
    "trainer.extend(extensions.PlotReport(y_keys='main/accuracy', trigger=report_interval, file_name='vgg16_accuracy_plot_dog.png'))"
   ]
  },
  {
   "cell_type": "code",
   "execution_count": 10,
   "metadata": {},
   "outputs": [
    {
     "name": "stdout",
     "output_type": "stream",
     "text": [
      "epoch       iteration   main/loss   main/accuracy  main/precision_0  main/precision_1  main/recall_0  main/recall_1\n",
      "\u001b[J0           10          1.10782     0.8875         nan               0.971875          nan            0.906897       \n",
      "\u001b[J0           20          0.192397    0.971875       nan               0.971875          nan            1              \n",
      "\u001b[J0           30          0.278194    0.940625       nan               0.940625          nan            1              \n",
      "\u001b[J0           40          0.171713    0.975          nan               0.975             nan            1              \n",
      "\u001b[J0           50          0.138401    0.975          nan               0.975             nan            1              \n",
      "\u001b[J0           60          0.191672    0.95625        nan               0.95625           nan            1              \n",
      "\u001b[J1           70          0.116148    0.975          nan               0.975             nan            1              \n",
      "\u001b[J1           80          0.186165    0.959375       nan               0.959375          nan            1              \n",
      "\u001b[J1           90          0.163383    0.9625         nan               0.9625            nan            1              \n",
      "\u001b[J1           100         0.187702    0.95625        nan               0.95625           nan            1              \n",
      "\u001b[J1           110         0.103153    0.98125        nan               0.98125           nan            1              \n",
      "\u001b[J1           120         0.206636    0.953125       nan               0.953125          nan            1              \n",
      "\u001b[J2           130         0.151215    0.96875        nan               0.96875           nan            1              \n",
      "\u001b[J2           140         0.114882    0.978125       nan               0.978125          nan            1              \n",
      "\u001b[J2           150         0.191177    0.953125       nan               0.953125          nan            1              \n",
      "\u001b[J2           160         0.123792    0.975          nan               0.975             nan            1              \n",
      "\u001b[J2           170         0.136736    0.971875       nan               0.971875          nan            1              \n",
      "\u001b[J2           180         0.266579    0.934375       nan               0.934375          nan            1              \n",
      "\u001b[J3           190         0.156684    0.965625       nan               0.965625          nan            1              \n",
      "\u001b[J3           200         0.135807    0.971875       nan               0.971875          nan            1              \n",
      "\u001b[J3           210         0.157454    0.965625       nan               0.965625          nan            1              \n",
      "\u001b[J3           220         0.172125    0.9625         nan               0.9625            nan            1              \n",
      "\u001b[J3           230         0.14424     0.975          nan               0.975             nan            1              \n",
      "\u001b[J3           240         0.296236    0.9375         nan               0.9375            nan            1              \n",
      "\u001b[J4           250         0.144382    0.971875       nan               0.971875          nan            1              \n",
      "\u001b[J4           260         0.177079    0.9625         nan               0.9625            nan            1              \n",
      "\u001b[J4           270         0.187405    0.95625        nan               0.95625           nan            1              \n",
      "\u001b[J4           280         0.0961393   0.98125        nan               0.98125           nan            1              \n",
      "\u001b[J4           290         0.231077    0.94375        nan               0.94375           nan            1              \n",
      "\u001b[J4           300         0.189906    0.9625         nan               0.9625            nan            1              \n",
      "\u001b[J5           310         0.118623    0.975          nan               0.975             nan            1              \n",
      "\u001b[J5           320         0.183214    0.95625        nan               0.95625           nan            1              \n",
      "\u001b[J5           330         0.144492    0.96875        nan               0.96875           nan            1              \n",
      "\u001b[J5           340         0.201092    0.953125       nan               0.953125          nan            1              \n",
      "\u001b[J5           350         0.116961    0.975          nan               0.975             nan            1              \n",
      "\u001b[J5           360         0.157218    0.96875        nan               0.96875           nan            1              \n",
      "\u001b[J6           370         0.183447    0.95625        nan               0.95625           nan            1              \n",
      "\u001b[J6           380         0.121901    0.975          nan               0.975             nan            1              \n",
      "\u001b[J6           390         0.166067    0.9625         nan               0.9625            nan            1              \n",
      "\u001b[J6           400         0.185464    0.95625        nan               0.95625           nan            1              \n",
      "\u001b[J6           410         0.166237    0.9625         nan               0.9625            nan            1              \n",
      "\u001b[J6           420         0.132696    0.971875       nan               0.971875          nan            1              \n",
      "\u001b[J6           430         0.172731    0.959375       nan               0.959375          0              1              \n",
      "\u001b[J7           440         0.154889    0.965625       nan               0.965625          nan            1              \n",
      "\u001b[J7           450         0.134573    0.971875       nan               0.971875          nan            1              \n",
      "\u001b[J7           460         0.183311    0.959375       nan               0.959375          nan            1              \n",
      "\u001b[J7           470         0.192048    0.953125       nan               0.953125          nan            1              \n",
      "\u001b[J7           480         0.140637    0.971875       nan               0.971875          nan            1              \n",
      "\u001b[J7           490         0.172819    0.9625         nan               0.9625            nan            1              \n",
      "\u001b[J8           500         0.119702    0.975          nan               0.975             nan            1              \n",
      "\u001b[J8           510         0.18814     0.95625        nan               0.95625           nan            1              \n",
      "\u001b[J8           520         0.169629    0.9625         nan               0.9625            nan            1              \n",
      "\u001b[J8           530         0.190861    0.953125       nan               0.953125          nan            1              \n",
      "\u001b[J8           540         0.133113    0.971875       nan               0.971875          nan            1              \n",
      "\u001b[J8           550         0.16763     0.9625         nan               0.9625            nan            1              \n",
      "\u001b[J9           560         0.130276    0.971875       nan               0.971875          nan            1              \n",
      "\u001b[J9           570         0.167335    0.9625         nan               0.9625            nan            1              \n",
      "\u001b[J9           580         0.144088    0.96875        nan               0.96875           nan            1              \n",
      "\u001b[J9           590         0.172653    0.959375       nan               0.959375          nan            1              \n",
      "\u001b[J9           600         0.142637    0.96875        nan               0.96875           nan            1              \n",
      "\u001b[J9           610         0.155439    0.965625       nan               0.965625          nan            1              \n"
     ]
    }
   ],
   "source": [
    "trainer.run()"
   ]
  },
  {
   "cell_type": "code",
   "execution_count": 11,
   "metadata": {},
   "outputs": [],
   "source": [
    "# save\n",
    "chainer.serializers.save_npz('./intern2019_finetune_adam.model', model)"
   ]
  },
  {
   "cell_type": "code",
   "execution_count": 12,
   "metadata": {},
   "outputs": [],
   "source": [
    "X = []\n",
    "T = []\n",
    "for x, t in test_dataset:\n",
    "    X.append(x)\n",
    "    T.append(t)\n",
    "\n",
    "X = cp.array(X,dtype=np.float32).reshape(-1, 3, 224, 224)\n",
    "T = np.array(T,dtype=np.int32)"
   ]
  },
  {
   "cell_type": "code",
   "execution_count": 13,
   "metadata": {},
   "outputs": [],
   "source": [
    "chance_rate=len(T[T==0]) / len(T)"
   ]
  },
  {
   "cell_type": "code",
   "execution_count": 14,
   "metadata": {},
   "outputs": [],
   "source": [
    "Y=[]\n",
    "for i in range(len(X)):\n",
    "    Y.append([chainer.cuda.to_cpu(model(X[i].reshape(1,3,224,224)).data[0][0]),\n",
    "              chainer.cuda.to_cpu(model(X[i].reshape(1,3,224,224)).data[0][1])])\n",
    "Y=np.array(Y)"
   ]
  },
  {
   "cell_type": "code",
   "execution_count": 22,
   "metadata": {},
   "outputs": [
    {
     "data": {
      "text/plain": [
       "<matplotlib.colorbar.Colorbar at 0x7fd30ea57f98>"
      ]
     },
     "execution_count": 22,
     "metadata": {},
     "output_type": "execute_result"
    },
    {
     "data": {
      "image/png": "[encoded data removed]",
      "text/plain": [
       "<Figure size 1080x720 with 2 Axes>"
      ]
     },
     "metadata": {},
     "output_type": "display_data"
    }
   ],
   "source": [
    "x,y=[0,1],[0,1]\n",
    "plt.figure(figsize=(15, 10))\n",
    "plt.scatter(Y[:,0][T==0], Y[:,1][T==0],c=T[T==0])\n",
    "plt.colorbar()"
   ]
  },
  {
   "cell_type": "code",
   "execution_count": 16,
   "metadata": {},
   "outputs": [],
   "source": [
    "def get_recall_and_precision(result_array, test_label, distance=1):\n",
    "    tp,tn,fp,fn=0,0,0,0\n",
    "    distance_from_origin=np.sqrt(np.sum(result_array**2, axis=1))\n",
    "    result_label=distance_from_origin<distance\n",
    "    if len(result_array)!=len(test_label):\n",
    "        raise ValueError('different dimension')\n",
    "    else:\n",
    "        for i in range(len(test_label)):\n",
    "            if test_label[i]==0 and result_label[i]==True:\n",
    "                tp+=1\n",
    "            elif test_label[i]!=0 and result_label[i]==True:\n",
    "                fp+=1\n",
    "            elif test_label[i]==0 and result_label[i]!=True:\n",
    "                fn+=1\n",
    "            else:\n",
    "                tn+=1\n",
    "    recall=tp/(tp+fn)\n",
    "    precision=tp/(tp+fp)\n",
    "    print('distance =',distance)\n",
    "    print('TP:', tp, ' FP:', fp, ' TN:', tn, 'FN', fn)\n",
    "    print('recall:', recall)\n",
    "    print('precision', precision)"
   ]
  },
  {
   "cell_type": "code",
   "execution_count": 17,
   "metadata": {},
   "outputs": [
    {
     "name": "stdout",
     "output_type": "stream",
     "text": [
      "distance = 9.2\n",
      "TP: 4907  FP: 475  TN: 0 FN 0\n",
      "recall: 1.0\n",
      "precision 0.9117428465254552\n"
     ]
    }
   ],
   "source": [
    "get_recall_and_precision(Y,T,distance=9.2)"
   ]
  },
  {
   "cell_type": "code",
   "execution_count": 18,
   "metadata": {},
   "outputs": [],
   "source": [
    "def get_recall_and_precision_value(result_array, test_label, distance=1):\n",
    "    tp,tn,fp,fn=0,0,0,0\n",
    "    distance_from_origin=np.sqrt(np.sum(result_array**2, axis=1))\n",
    "    result_label=distance_from_origin<distance\n",
    "    if len(result_array)!=len(test_label):\n",
    "        raise ValueError('different dimension')\n",
    "    else:\n",
    "        for i in range(len(test_label)):\n",
    "            if test_label[i]==0 and result_label[i]==True:\n",
    "                tp+=1\n",
    "            elif test_label[i]!=0 and result_label[i]==True:\n",
    "                fp+=1\n",
    "            elif test_label[i]==0 and result_label[i]!=True:\n",
    "                fn+=1\n",
    "            else:\n",
    "                tn+=1\n",
    "    recall=tp/(tp+fn)\n",
    "    precision=tp/(tp+fp)\n",
    "    return recall, precision"
   ]
  },
  {
   "cell_type": "code",
   "execution_count": 19,
   "metadata": {},
   "outputs": [
    {
     "ename": "ZeroDivisionError",
     "evalue": "division by zero",
     "output_type": "error",
     "traceback": [
      "\u001b[0;31m---------------------------------------------------------------------------\u001b[0m",
      "\u001b[0;31mZeroDivisionError\u001b[0m                         Traceback (most recent call last)",
      "\u001b[0;32m<ipython-input-19-3c5e3d25110f>\u001b[0m in \u001b[0;36m<module>\u001b[0;34m()\u001b[0m\n\u001b[1;32m      3\u001b[0m \u001b[0;32mwhile\u001b[0m\u001b[0;34m(\u001b[0m\u001b[0;32mTrue\u001b[0m\u001b[0;34m)\u001b[0m\u001b[0;34m:\u001b[0m\u001b[0;34m\u001b[0m\u001b[0m\n\u001b[1;32m      4\u001b[0m     \u001b[0mdistance\u001b[0m\u001b[0;34m+=\u001b[0m\u001b[0;36m0.1\u001b[0m\u001b[0;34m\u001b[0m\u001b[0m\n\u001b[0;32m----> 5\u001b[0;31m     \u001b[0mtmp_recall\u001b[0m\u001b[0;34m,\u001b[0m \u001b[0mtmp_precision\u001b[0m\u001b[0;34m=\u001b[0m\u001b[0mget_recall_and_precision_value\u001b[0m\u001b[0;34m(\u001b[0m\u001b[0mY\u001b[0m\u001b[0;34m,\u001b[0m\u001b[0mT\u001b[0m\u001b[0;34m,\u001b[0m\u001b[0mdistance\u001b[0m\u001b[0;34m=\u001b[0m\u001b[0mdistance\u001b[0m\u001b[0;34m)\u001b[0m\u001b[0;34m\u001b[0m\u001b[0m\n\u001b[0m\u001b[1;32m      6\u001b[0m     \u001b[0;32mif\u001b[0m \u001b[0mtmp_recall\u001b[0m\u001b[0;34m>=\u001b[0m\u001b[0;36m1\u001b[0m\u001b[0;34m:\u001b[0m\u001b[0;34m\u001b[0m\u001b[0m\n\u001b[1;32m      7\u001b[0m         \u001b[0;32mbreak\u001b[0m\u001b[0;34m\u001b[0m\u001b[0m\n",
      "\u001b[0;32m<ipython-input-18-a9c8fca6d697>\u001b[0m in \u001b[0;36mget_recall_and_precision_value\u001b[0;34m(result_array, test_label, distance)\u001b[0m\n\u001b[1;32m     16\u001b[0m                 \u001b[0mtn\u001b[0m\u001b[0;34m+=\u001b[0m\u001b[0;36m1\u001b[0m\u001b[0;34m\u001b[0m\u001b[0m\n\u001b[1;32m     17\u001b[0m     \u001b[0mrecall\u001b[0m\u001b[0;34m=\u001b[0m\u001b[0mtp\u001b[0m\u001b[0;34m/\u001b[0m\u001b[0;34m(\u001b[0m\u001b[0mtp\u001b[0m\u001b[0;34m+\u001b[0m\u001b[0mfn\u001b[0m\u001b[0;34m)\u001b[0m\u001b[0;34m\u001b[0m\u001b[0m\n\u001b[0;32m---> 18\u001b[0;31m     \u001b[0mprecision\u001b[0m\u001b[0;34m=\u001b[0m\u001b[0mtp\u001b[0m\u001b[0;34m/\u001b[0m\u001b[0;34m(\u001b[0m\u001b[0mtp\u001b[0m\u001b[0;34m+\u001b[0m\u001b[0mfp\u001b[0m\u001b[0;34m)\u001b[0m\u001b[0;34m\u001b[0m\u001b[0m\n\u001b[0m\u001b[1;32m     19\u001b[0m     \u001b[0;32mreturn\u001b[0m \u001b[0mrecall\u001b[0m\u001b[0;34m,\u001b[0m \u001b[0mprecision\u001b[0m\u001b[0;34m\u001b[0m\u001b[0m\n",
      "\u001b[0;31mZeroDivisionError\u001b[0m: division by zero"
     ]
    }
   ],
   "source": [
    "recall_list,precision_list=[],[]\n",
    "distance=0.1\n",
    "while(True):\n",
    "    distance+=0.1\n",
    "    tmp_recall, tmp_precision=get_recall_and_precision_value(Y,T,distance=distance)\n",
    "    if tmp_recall>=1:\n",
    "        break\n",
    "    recall_list.append(tmp_recall)\n",
    "    precision_list.append(tmp_precision)"
   ]
  },
  {
   "cell_type": "code",
   "execution_count": null,
   "metadata": {},
   "outputs": [],
   "source": [
    "p=np.array(recall_list)\n",
    "r=np.array(precision_list)\n",
    "plt.plot(p,r)\n",
    "plt.vlines(0.999,1.01,0,'red')\n",
    "plt.ylim(chance_rate,1.01)\n",
    "plt.xlim(0.95,1.001)\n",
    "plt.xlabel('Recall')\n",
    "plt.ylabel('Precision')\n",
    "plt.show()"
   ]
  },
  {
   "cell_type": "code",
   "execution_count": null,
   "metadata": {},
   "outputs": [],
   "source": [
    "cat=np.random.rand(2,20)\n",
    "cat[0], cat[1]=cat[0]*-10,cat[1]*10\n",
    "dog=np.random.rand(2,20)\n",
    "dog[0], dog[1]=dog[0]*5,cat[1]*-3\n",
    "origin=np.array([[0],[0]])\n",
    "x=np.arange(0,)"
   ]
  },
  {
   "cell_type": "code",
   "execution_count": null,
   "metadata": {},
   "outputs": [],
   "source": [
    "cat[1]"
   ]
  },
  {
   "cell_type": "code",
   "execution_count": null,
   "metadata": {},
   "outputs": [],
   "source": [
    "sns.set()\n",
    "sns.set_style('whitegrid')\n",
    "fig=plt.figure()\n",
    "ax=fig.add_subplot(111)\n",
    "ax.scatter(cat[0],cat[1],label='cat')\n",
    "ax.scatter(dog[0],dog[1],label='dog')\n",
    "ax.scatter(origin[0],origin[1],label='origin')\n",
    "ax.set_xlabel('dog')\n",
    "ax.set_ylabel('cat')\n",
    "plt.legend()"
   ]
  },
  {
   "cell_type": "code",
   "execution_count": null,
   "metadata": {},
   "outputs": [],
   "source": []
  }
 ],
 "metadata": {
  "kernelspec": {
   "display_name": "Environment (conda_chainer_p36)",
   "language": "python",
   "name": "conda_chainer_p36"
  },
  "language_info": {
   "codemirror_mode": {
    "name": "ipython",
    "version": 3
   },
   "file_extension": ".py",
   "mimetype": "text/x-python",
   "name": "python",
   "nbconvert_exporter": "python",
   "pygments_lexer": "ipython3",
   "version": "3.6.5"
  }
 },
 "nbformat": 4,
 "nbformat_minor": 2
}
