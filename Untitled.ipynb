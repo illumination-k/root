{
 "cells": [
  {
   "cell_type": "code",
   "execution_count": 18,
   "metadata": {},
   "outputs": [],
   "source": [
    "import os\n",
    "from json import load\n",
    "import numpy as np\n",
    "import cupy as cp\n",
    "import matplotlib.pyplot as plt\n",
    "import seaborn as sns\n",
    "\n",
    "import chainer\n",
    "import chainer.links as L\n",
    "import chainer.functions as F\n",
    "from chainer import cuda\n",
    "from chainer import optimizers\n",
    "from chainer import iterators\n",
    "from chainer import training\n",
    "from chainer.training import extensions\n",
    "from chainer import datasets\n",
    "from chainer.datasets import TransformDataset\n",
    "from chainer.datasets import LabeledImageDataset\n",
    "from functools import partial\n",
    "from chainercv import transforms"
   ]
  },
  {
   "cell_type": "code",
   "execution_count": 19,
   "metadata": {},
   "outputs": [],
   "source": [
    "train = LabeledImageDataset('./simple_crop/train_data/train_label.csv',\n",
    "                            './simple_crop/train_data/images/',dtype=np.float32)\n",
    "test = LabeledImageDataset('./simple_crop/test_data/test_label.csv',\n",
    "                            './simple_crop/test_data/images/',dtype=np.float32)\n",
    "\n",
    "def transform(data, train='False'):\n",
    "    img, label = data\n",
    "    img = img.copy()\n",
    "\n",
    "    # Color augmentation\n",
    "    if train and label==0:\n",
    "        img = transforms.pca_lighting(img, 76.5)\n",
    "\n",
    "    # Random flip & crop\n",
    "    if train and label==0:\n",
    "        img = transforms.random_flip(img, x_random=True)\n",
    "        img = transforms.random_expand(img, max_ratio=1.5)\n",
    "        img = transforms.random_crop(img, (200, 200))\n",
    "    img=np.array(img, dtype=np.float32)\n",
    "    img=L.model.vision.vgg.prepare(img)\n",
    "\n",
    "    return img, label\n",
    "\n",
    "train_dataset = TransformDataset(train, partial(transform, train=True))\n",
    "test_dataset = TransformDataset(test, partial(transform, train=False))"
   ]
  },
  {
   "cell_type": "code",
   "execution_count": 3,
   "metadata": {},
   "outputs": [],
   "source": [
    "class Model(chainer.Chain):\n",
    "    def __init__(self, dim=2):\n",
    "        super(Model, self).__init__()\n",
    "        with self.init_scope():\n",
    "            self.vgg=L.VGG16Layers()\n",
    "            self.fc1=L.Linear(None, 500)\n",
    "            self.fc=L.Linear(None, dim)\n",
    "            \n",
    "    def __call__(self, x, train=False):\n",
    "        with chainer.using_config('train', train):\n",
    "            h=self.vgg(x, layers=['fc7'])['fc7']\n",
    "            h=self.fc1(h)\n",
    "            h=F.relu(h)\n",
    "            h=F.normalize(h)*50\n",
    "            y=self.fc(h)\n",
    "        return y\n",
    "    \n",
    "class SoftMaxEntoropyLoss(chainer.Chain):\n",
    "    def __init__(self, model):\n",
    "        super(SoftMaxEntoropyLoss, self).__init__()\n",
    "        with self.init_scope():\n",
    "            self.model = model\n",
    "\n",
    "    def __call__(self, x, t):\n",
    "        y = self.model(x)\n",
    "        loss = F.softmax_cross_entropy(y, t)\n",
    "        accuracy = F.accuracy(y, t)\n",
    "        summary = F.classification_summary(y, t, beta = 1.0)\n",
    "        precision = summary[0]\n",
    "        recall = summary[1]\n",
    "        f_value = summary[2]\n",
    "        precision_dict=dict(('precision_%d' % i, val) for i, val in enumerate(summary[0]))\n",
    "        recall_dict=dict(('recall_%d' % i, val) for i, val in enumerate(summary[1]))\n",
    "        f_value_dict=dict(('f_value_%d' % i, val) for i, val in enumerate(summary[2]))\n",
    "        main_dict={'loss':loss, 'accuracy':accuracy}\n",
    "        main_dict.update(precision_dict)\n",
    "        main_dict.update(recall_dict)\n",
    "        main_dict.update(f_value_dict)\n",
    "        chainer.report(main_dict, self)\n",
    "        return loss"
   ]
  },
  {
   "cell_type": "code",
   "execution_count": 4,
   "metadata": {},
   "outputs": [],
   "source": [
    "model=Model()\n",
    "loss=SoftMaxEntoropyLoss(model)"
   ]
  },
  {
   "cell_type": "code",
   "execution_count": 5,
   "metadata": {},
   "outputs": [],
   "source": [
    "# load\n",
    "chainer.serializers.load_npz('./intern2019_finetune_submit.model', model)"
   ]
  },
  {
   "cell_type": "code",
   "execution_count": 6,
   "metadata": {},
   "outputs": [
    {
     "data": {
      "text/plain": [
       "<__main__.Model at 0x7f1f558ba3c8>"
      ]
     },
     "execution_count": 6,
     "metadata": {},
     "output_type": "execute_result"
    }
   ],
   "source": [
    "model.to_gpu()"
   ]
  },
  {
   "cell_type": "code",
   "execution_count": 7,
   "metadata": {},
   "outputs": [],
   "source": [
    "X = []\n",
    "T = []\n",
    "for x, t in test_dataset:\n",
    "    X.append(x)\n",
    "    T.append(t)\n",
    "\n",
    "X = cp.array(X,dtype=np.float32).reshape(-1, 3, 224, 224)\n",
    "T = np.array(T,dtype=np.int32)"
   ]
  },
  {
   "cell_type": "code",
   "execution_count": 8,
   "metadata": {},
   "outputs": [],
   "source": [
    "Y=[]\n",
    "for i in range(len(X)):\n",
    "    Y.append([chainer.cuda.to_cpu(model(X[i].reshape(1,3,224,224)).data[0][0]),\n",
    "              chainer.cuda.to_cpu(model(X[i].reshape(1,3,224,224)).data[0][1])])\n",
    "Y=np.array(Y)"
   ]
  },
  {
   "cell_type": "code",
   "execution_count": 9,
   "metadata": {},
   "outputs": [],
   "source": [
    "def get_recall_and_precision_value(result_array, test_label, distance=1):\n",
    "    tp,tn,fp,fn=0,0,0,0\n",
    "    distance_from_origin=np.sqrt(np.sum(result_array**2, axis=1))\n",
    "    result_label=distance_from_origin<distance\n",
    "    if len(result_array)!=len(test_label):\n",
    "        raise ValueError('different dimension')\n",
    "    else:\n",
    "        for i in range(len(test_label)):\n",
    "            if test_label[i]==0 and result_label[i]==True:\n",
    "                tp+=1\n",
    "            elif test_label[i]!=0 and result_label[i]==True:\n",
    "                fp+=1\n",
    "            elif test_label[i]==0 and result_label[i]!=True:\n",
    "                fn+=1\n",
    "            else:\n",
    "                tn+=1\n",
    "    recall=tp/(tp+fn)\n",
    "    precision=tp/(tp+fp)\n",
    "    return recall, precision"
   ]
  },
  {
   "cell_type": "code",
   "execution_count": 10,
   "metadata": {},
   "outputs": [
    {
     "name": "stdout",
     "output_type": "stream",
     "text": [
      "chance rata: 0.9117428465254552\n"
     ]
    },
    {
     "data": {
      "image/png": "[encoded data removed]",
      "text/plain": [
       "<Figure size 432x288 with 1 Axes>"
      ]
     },
     "metadata": {},
     "output_type": "display_data"
    }
   ],
   "source": [
    "chance_rate=len(T[T==0]) / len(T)\n",
    "print('chance rata:',chance_rate)\n",
    "recall_list,precision_list=[],[]\n",
    "distance=0.1\n",
    "while(True):\n",
    "    distance+=0.1\n",
    "    tmp_recall, tmp_precision=get_recall_and_precision_value(Y,T,distance=distance)\n",
    "    if tmp_precision==chance_rate:\n",
    "        break\n",
    "    recall_list.append(tmp_recall)\n",
    "    precision_list.append(tmp_precision)\n",
    "\n",
    "p=np.array(recall_list)\n",
    "r=np.array(precision_list)\n",
    "plt.plot(p,r)\n",
    "plt.vlines(0.999,1.01,0,'red')\n",
    "plt.ylim(chance_rate,1.01)\n",
    "plt.xlim(0.95,1.001)\n",
    "plt.xlabel('Recall')\n",
    "plt.ylabel('Precision')\n",
    "plt.show()"
   ]
  },
  {
   "cell_type": "code",
   "execution_count": 16,
   "metadata": {},
   "outputs": [],
   "source": [
    "def get_stat(result_array, test_label, distance=1):\n",
    "    tp,tn,fp,fn=0,0,0,0\n",
    "    distance_from_origin=np.sqrt(np.sum(result_array**2, axis=1))\n",
    "    result_label=distance_from_origin<distance\n",
    "    if len(result_array)!=len(test_label):\n",
    "        raise ValueError('different dimension')\n",
    "    else:\n",
    "        for i in range(len(test_label)):\n",
    "            if test_label[i]==0 and result_label[i]==True:\n",
    "                tp+=1\n",
    "            elif test_label[i]!=0 and result_label[i]==True:\n",
    "                fp+=1\n",
    "            elif test_label[i]==0 and result_label[i]!=True:\n",
    "                fn+=1\n",
    "            else:\n",
    "                tn+=1\n",
    "    recall=tp/(tp+fn)\n",
    "    precision=tp/(tp+fp)\n",
    "    specificity=tn/(fp+tn)\n",
    "    accuracy=(tp+tn)/(tp+tn+fp+fn)\n",
    "    print('distance =',distance)\n",
    "    print('TP:', tp, ' FP:', fp, ' TN:', tn, 'FN', fn)\n",
    "    print('recall:', recall)\n",
    "    print('precision:', precision)\n",
    "    print('specificity:', specificity)\n",
    "    print('accuracy:', accuracy)"
   ]
  },
  {
   "cell_type": "code",
   "execution_count": 17,
   "metadata": {},
   "outputs": [
    {
     "name": "stdout",
     "output_type": "stream",
     "text": [
      "distance = 8.99\n",
      "TP: 4904  FP: 135  TN: 340 FN 3\n",
      "recall: 0.9993886284899124\n",
      "precision: 0.9732089700337369\n",
      "specificity: 0.7157894736842105\n",
      "accuracy: 0.9743589743589743\n"
     ]
    }
   ],
   "source": [
    "get_stat(Y,T,distance=8.99)"
   ]
  },
  {
   "cell_type": "code",
   "execution_count": null,
   "metadata": {},
   "outputs": [],
   "source": []
  }
 ],
 "metadata": {
  "kernelspec": {
   "display_name": "Environment (conda_chainer_p36)",
   "language": "python",
   "name": "conda_chainer_p36"
  },
  "language_info": {
   "codemirror_mode": {
    "name": "ipython",
    "version": 3
   },
   "file_extension": ".py",
   "mimetype": "text/x-python",
   "name": "python",
   "nbconvert_exporter": "python",
   "pygments_lexer": "ipython3",
   "version": "3.6.5"
  }
 },
 "nbformat": 4,
 "nbformat_minor": 2
}
