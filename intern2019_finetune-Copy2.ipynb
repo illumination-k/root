{
 "cells": [
  {
   "cell_type": "markdown",
   "metadata": {},
   "source": [
    "# 課題\n",
    "**犬猫の判別**"
   ]
  },
  {
   "cell_type": "code",
   "execution_count": 1,
   "metadata": {},
   "outputs": [],
   "source": [
    "import numpy as np\n",
    "import cupy as cp\n",
    "import matplotlib.pyplot as plt\n",
    "import seaborn as sns\n",
    "\n",
    "import chainer\n",
    "import chainer.links as L\n",
    "import chainer.functions as F\n",
    "from chainer import cuda\n",
    "from chainer import optimizers\n",
    "from chainer import iterators\n",
    "from chainer import training\n",
    "from chainer.training import extensions\n",
    "from chainer import datasets\n",
    "from chainer.datasets import TransformDataset\n",
    "from chainer.datasets import LabeledImageDataset\n",
    "from functools import partial\n",
    "from chainercv import transforms"
   ]
  },
  {
   "cell_type": "markdown",
   "metadata": {},
   "source": [
    "## Dataset作成\n",
    "preprocess.ipynbで中央部分を224\\*224にクロップしたものを画像として保存し、ラベルとしてcsvファイルを作成した。\n",
    "猫：１、犬：０でラベルづけされている。\n",
    "訓練時に、ランダムクロップとランダムフリップ、PCA_lightingを犬にのみ行なっている。"
   ]
  },
  {
   "cell_type": "code",
   "execution_count": 2,
   "metadata": {},
   "outputs": [],
   "source": [
    "train = LabeledImageDataset('./simple_crop/train_data/train_label.csv',\n",
    "                            './simple_crop/train_data/images/',dtype=np.float32)\n",
    "test = LabeledImageDataset('./simple_crop/test_data/test_label.csv',\n",
    "                            './simple_crop/test_data/images/',dtype=np.float32)\n",
    "\n",
    "def transform(data, train='False'):\n",
    "    img, label = data\n",
    "    img = img.copy()\n",
    "\n",
    "    # Color augmentation\n",
    "    if train and label==0:\n",
    "        img = transforms.pca_lighting(img, 76.5)\n",
    "\n",
    "    # Random flip & crop\n",
    "    if train and label==0:\n",
    "        img = transforms.random_flip(img, x_random=True)\n",
    "        img = transforms.random_expand(img, max_ratio=1.5)\n",
    "        img = transforms.random_crop(img, (200, 200))\n",
    "    img=np.array(img, dtype=np.float32)\n",
    "    img=L.model.vision.vgg.prepare(img)\n",
    "\n",
    "    return img, label\n",
    "\n",
    "train_dataset = TransformDataset(train, partial(transform, train=True))\n",
    "test_dataset = TransformDataset(test, partial(transform, train=False))"
   ]
  },
  {
   "cell_type": "markdown",
   "metadata": {},
   "source": [
    "## Modelの作成\n",
    "finetuneされたVGGを使用した。\n",
    "fc7にfc(dim=2)を追加し、損失関数としてL2 normalizeされたsoftmax cross entropyを用いた。\n",
    "Scalaとして最も精度が出ていた50を用いた。"
   ]
  },
  {
   "cell_type": "code",
   "execution_count": 19,
   "metadata": {},
   "outputs": [],
   "source": [
    "class CenterLossFunction(chainer.function.Function):\n",
    "    \"\"\"Center loss function.\"\"\"\n",
    "\n",
    "    def __init__(self, alpha, num_classes):\n",
    "        self.alpha = alpha\n",
    "        self.num_classes = num_classes\n",
    "\n",
    "    def check_type_forward(self, in_types):\n",
    "        x_type, t_type, c_type = in_types\n",
    "        chainer.utils.type_check.expect(in_types.size() == 3)\n",
    "        chainer.utils.type_check.expect(\n",
    "            x_type.dtype == np.float32,\n",
    "            t_type.dtype == np.int32,\n",
    "            c_type.dtype == np.float32,\n",
    "            x_type.shape[0] == t_type.shape[0],\n",
    "            c_type.shape[0] == self.num_classes,\n",
    "            c_type.shape[1] == 2\n",
    "        )\n",
    "\n",
    "    def forward(self, inputs):\n",
    "        xp = cuda.get_array_module(*inputs)\n",
    "        features, labels, centers = inputs\n",
    "        batch_size = features.shape[0]\n",
    "\n",
    "        centers_batch = xp.take(centers, labels, axis=0)\n",
    "\n",
    "        y = xp.sum(xp.square(features - centers_batch)) / batch_size / 2\n",
    "        y = xp.asarray(y, dtype=xp.float32)\n",
    "\n",
    "        return y,\n",
    "\n",
    "    def backward(self, inputs, gy):\n",
    "        xp = cuda.get_array_module(*inputs)\n",
    "        features, labels, centers = inputs\n",
    "        batch_size = features.shape[0]\n",
    "\n",
    "        centers_batch = xp.take(centers, labels, axis=0)\n",
    "\n",
    "        diff = features - centers_batch\n",
    "        gx0 = diff.astype(xp.float32) / batch_size\n",
    "\n",
    "        d_cj = []\n",
    "        for i in range(self.num_classes):\n",
    "            c_j = centers[i]\n",
    "            indices = xp.where(labels == i)\n",
    "            d_cj.append(xp.sum(c_j - features[indices], axis=0) / (1 + indices[0].shape[0]))\n",
    "\n",
    "        d_cj = self.alpha * xp.asarray(d_cj, dtype=xp.float32)\n",
    "\n",
    "        return gx0, None, d_cj\n",
    "\n",
    "\n",
    "class CenterLoss(chainer.link.Link):\n",
    "\n",
    "    def __init__(self, alpha, num_classes):\n",
    "\n",
    "        super(CenterLoss, self).__init__()\n",
    "        self.alpha = alpha\n",
    "        self.num_classes = num_classes\n",
    "\n",
    "        initial_centers = chainer.initializers.constant.Zero()\n",
    "        with self.init_scope():\n",
    "            self.centers = chainer.variable.Parameter(initial_centers, (self.num_classes, 2))\n",
    "\n",
    "    def __call__(self, x, t):\n",
    "        return CenterLossFunction(self.alpha, self.num_classes)(x, t, self.centers)"
   ]
  },
  {
   "cell_type": "code",
   "execution_count": 20,
   "metadata": {},
   "outputs": [],
   "source": [
    "class Model(chainer.Chain):\n",
    "    def __init__(self, dim=2):\n",
    "        super(Model, self).__init__()\n",
    "        with self.init_scope():\n",
    "            self.vgg=L.VGG16Layers()\n",
    "            self.fc=L.Linear(None, dim)\n",
    "            \n",
    "    def __call__(self, x, train=False):\n",
    "        with chainer.using_config('train', train):\n",
    "            h=self.vgg(x, layers=['fc7'])['fc7']\n",
    "            h=F.normalize(h)*50 #L2 normalize + scala\n",
    "            y=self.fc(h)\n",
    "        return y\n",
    "    \n",
    "class SoftMaxEntoropyLoss(chainer.Chain):\n",
    "    def __init__(self, model):\n",
    "        super(SoftMaxEntoropyLoss, self).__init__()\n",
    "        with self.init_scope():\n",
    "            self.model = model\n",
    "            self.fc = L.Linear(None, 2)\n",
    "            self.center_loss_function = CenterLoss(0.5, 2)\n",
    "\n",
    "    def __call__(self, x, t):\n",
    "        y = self.model(x)\n",
    "        center_loss = self.center_loss_function(y, t)\n",
    "        softmax_loss = F.softmax_cross_entropy(y, t)\n",
    "        loss = center_loss+softmax_loss\n",
    "        #各種記録用\n",
    "        accuracy = F.accuracy(y, t)\n",
    "        summary = F.classification_summary(y, t, beta = 1.0)\n",
    "        precision = summary[0]\n",
    "        recall = summary[1]\n",
    "        f_value = summary[2]\n",
    "        precision_dict=dict(('precision_%d' % i, val) for i, val in enumerate(summary[0]))\n",
    "        recall_dict=dict(('recall_%d' % i, val) for i, val in enumerate(summary[1]))\n",
    "        f_value_dict=dict(('f_value_%d' % i, val) for i, val in enumerate(summary[2]))\n",
    "        main_dict={'loss':loss, 'accuracy':accuracy}\n",
    "        main_dict.update(precision_dict)\n",
    "        main_dict.update(recall_dict)\n",
    "        main_dict.update(f_value_dict)\n",
    "        chainer.report(main_dict, self)\n",
    "        return loss"
   ]
  },
  {
   "cell_type": "code",
   "execution_count": 50,
   "metadata": {},
   "outputs": [],
   "source": [
    "class SoftmaxAndCenterLoss(chainer.Chain):\n",
    "    def __init__(self, out_dim=2, alpha_ratio=0.5, lambda_ratio=0.5):\n",
    "        self.out_dim=out_dim\n",
    "        self.alpha_ratio=alpha_ratio\n",
    "        self.lambda_raito=lambda_ratio\n",
    "        with self.init_scope():\n",
    "            self.vgg=L.VGG16Layers()\n",
    "            self.fc=L.Linear(None, self.out_dim)\n",
    "            self.center_loss_function = CenterLoss(alpha_ratio, out_dim)\n",
    "            \n",
    "    def extract_features(self, x):\n",
    "        with chainer.using_config('train',train):\n",
    "            h = self.vgg(x)\n",
    "            h = self.fc(h) \n",
    "        return h\n",
    "    \n",
    "    def __call__(self, x, t):\n",
    "        y = self.extract_features(x)\n",
    "        center_loss=self.center_loss_function(y, t)\n",
    "        y = F.normalize(y)*50\n",
    "        softmax_loss=F.softmax_cross_entropy(y, t)\n",
    "        loss=center_loss+softmax_loss\n",
    "        accuracy=F.accuracy(y,t)\n",
    "        chainer.report({'loss':loss, 'accuracy':accuracy},self)\n",
    "        return loss\n",
    "        "
   ]
  },
  {
   "cell_type": "code",
   "execution_count": 51,
   "metadata": {},
   "outputs": [
    {
     "ename": "AttributeError",
     "evalue": "'SoftmaxAndCenterLoss' object has no attribute '_children'",
     "output_type": "error",
     "traceback": [
      "\u001b[0;31m---------------------------------------------------------------------------\u001b[0m",
      "\u001b[0;31mAttributeError\u001b[0m                            Traceback (most recent call last)",
      "\u001b[0;32m<ipython-input-51-a2cb14f0d5ba>\u001b[0m in \u001b[0;36m<module>\u001b[0;34m()\u001b[0m\n\u001b[0;32m----> 1\u001b[0;31m \u001b[0mmodel\u001b[0m\u001b[0;34m=\u001b[0m\u001b[0mSoftmaxAndCenterLoss\u001b[0m\u001b[0;34m(\u001b[0m\u001b[0;34m)\u001b[0m\u001b[0;34m\u001b[0m\u001b[0m\n\u001b[0m",
      "\u001b[0;32m<ipython-input-50-770dc9c2c0c8>\u001b[0m in \u001b[0;36m__init__\u001b[0;34m(self, out_dim, alpha_ratio, lambda_ratio)\u001b[0m\n\u001b[1;32m      5\u001b[0m         \u001b[0mself\u001b[0m\u001b[0;34m.\u001b[0m\u001b[0mlambda_raito\u001b[0m\u001b[0;34m=\u001b[0m\u001b[0mlambda_ratio\u001b[0m\u001b[0;34m\u001b[0m\u001b[0m\n\u001b[1;32m      6\u001b[0m         \u001b[0;32mwith\u001b[0m \u001b[0mself\u001b[0m\u001b[0;34m.\u001b[0m\u001b[0minit_scope\u001b[0m\u001b[0;34m(\u001b[0m\u001b[0;34m)\u001b[0m\u001b[0;34m:\u001b[0m\u001b[0;34m\u001b[0m\u001b[0m\n\u001b[0;32m----> 7\u001b[0;31m             \u001b[0mself\u001b[0m\u001b[0;34m.\u001b[0m\u001b[0mvgg\u001b[0m\u001b[0;34m=\u001b[0m\u001b[0mL\u001b[0m\u001b[0;34m.\u001b[0m\u001b[0mVGG16Layers\u001b[0m\u001b[0;34m(\u001b[0m\u001b[0;34m)\u001b[0m\u001b[0;34m\u001b[0m\u001b[0m\n\u001b[0m\u001b[1;32m      8\u001b[0m             \u001b[0mself\u001b[0m\u001b[0;34m.\u001b[0m\u001b[0mfc\u001b[0m\u001b[0;34m=\u001b[0m\u001b[0mL\u001b[0m\u001b[0;34m.\u001b[0m\u001b[0mLinear\u001b[0m\u001b[0;34m(\u001b[0m\u001b[0;32mNone\u001b[0m\u001b[0;34m,\u001b[0m \u001b[0mself\u001b[0m\u001b[0;34m.\u001b[0m\u001b[0mout_dim\u001b[0m\u001b[0;34m)\u001b[0m\u001b[0;34m\u001b[0m\u001b[0m\n\u001b[1;32m      9\u001b[0m             \u001b[0mself\u001b[0m\u001b[0;34m.\u001b[0m\u001b[0mcenter_loss_function\u001b[0m \u001b[0;34m=\u001b[0m \u001b[0mCenterLoss\u001b[0m\u001b[0;34m(\u001b[0m\u001b[0malpha_ratio\u001b[0m\u001b[0;34m,\u001b[0m \u001b[0mout_dim\u001b[0m\u001b[0;34m)\u001b[0m\u001b[0;34m\u001b[0m\u001b[0m\n",
      "\u001b[0;32m~/anaconda3/envs/chainer_p36/lib/python3.6/site-packages/chainer/link.py\u001b[0m in \u001b[0;36m__setattr__\u001b[0;34m(self, name, value)\u001b[0m\n\u001b[1;32m    879\u001b[0m                     'cannot register a new link %s: attribute exists' % name)\n\u001b[1;32m    880\u001b[0m             \u001b[0mvalue\u001b[0m\u001b[0;34m.\u001b[0m\u001b[0mname\u001b[0m \u001b[0;34m=\u001b[0m \u001b[0mname\u001b[0m\u001b[0;34m\u001b[0m\u001b[0m\n\u001b[0;32m--> 881\u001b[0;31m             \u001b[0mself\u001b[0m\u001b[0;34m.\u001b[0m\u001b[0m_children\u001b[0m\u001b[0;34m.\u001b[0m\u001b[0madd\u001b[0m\u001b[0;34m(\u001b[0m\u001b[0mname\u001b[0m\u001b[0;34m)\u001b[0m\u001b[0;34m\u001b[0m\u001b[0m\n\u001b[0m\u001b[1;32m    882\u001b[0m         \u001b[0msuper\u001b[0m\u001b[0;34m(\u001b[0m\u001b[0mChain\u001b[0m\u001b[0;34m,\u001b[0m \u001b[0mself\u001b[0m\u001b[0;34m)\u001b[0m\u001b[0;34m.\u001b[0m\u001b[0m__setattr__\u001b[0m\u001b[0;34m(\u001b[0m\u001b[0mname\u001b[0m\u001b[0;34m,\u001b[0m \u001b[0mvalue\u001b[0m\u001b[0;34m)\u001b[0m\u001b[0;34m\u001b[0m\u001b[0m\n\u001b[1;32m    883\u001b[0m \u001b[0;34m\u001b[0m\u001b[0m\n",
      "\u001b[0;31mAttributeError\u001b[0m: 'SoftmaxAndCenterLoss' object has no attribute '_children'"
     ]
    }
   ],
   "source": [
    "model=SoftmaxAndCenterLoss()"
   ]
  },
  {
   "cell_type": "markdown",
   "metadata": {},
   "source": [
    "## ハイパーパラメータの設定\n",
    "- epoch = 10  \n",
    "- batchsize = 32  \n",
    "- MomentumSDG  \n",
    "- lr=1e-4  "
   ]
  },
  {
   "cell_type": "code",
   "execution_count": 45,
   "metadata": {},
   "outputs": [],
   "source": [
    "n_epoch = 10\n",
    "batchsize = 32\n",
    "out_dir = './result/'\n",
    "report_interval = (10, 'iteration')\n",
    "\n",
    "train_iter = iterators.MultithreadIterator\\\n",
    "(train_dataset, batchsize, repeat=True, shuffle=True)"
   ]
  },
  {
   "cell_type": "code",
   "execution_count": 46,
   "metadata": {},
   "outputs": [
    {
     "ename": "TypeError",
     "evalue": "optimization target must be a link",
     "output_type": "error",
     "traceback": [
      "\u001b[0;31m---------------------------------------------------------------------------\u001b[0m",
      "\u001b[0;31mTypeError\u001b[0m                                 Traceback (most recent call last)",
      "\u001b[0;32m<ipython-input-46-c6d1dcd858a5>\u001b[0m in \u001b[0;36m<module>\u001b[0;34m()\u001b[0m\n\u001b[1;32m      1\u001b[0m \u001b[0moptimizer\u001b[0m \u001b[0;34m=\u001b[0m \u001b[0mchainer\u001b[0m\u001b[0;34m.\u001b[0m\u001b[0moptimizers\u001b[0m\u001b[0;34m.\u001b[0m\u001b[0mMomentumSGD\u001b[0m\u001b[0;34m(\u001b[0m\u001b[0mlr\u001b[0m\u001b[0;34m=\u001b[0m\u001b[0;36m1e-5\u001b[0m\u001b[0;34m)\u001b[0m\u001b[0;34m\u001b[0m\u001b[0m\n\u001b[0;32m----> 2\u001b[0;31m \u001b[0moptimizer\u001b[0m\u001b[0;34m.\u001b[0m\u001b[0msetup\u001b[0m\u001b[0;34m(\u001b[0m\u001b[0mmodel\u001b[0m\u001b[0;34m)\u001b[0m\u001b[0;34m\u001b[0m\u001b[0m\n\u001b[0m",
      "\u001b[0;32m~/anaconda3/envs/chainer_p36/lib/python3.6/site-packages/chainer/optimizer.py\u001b[0m in \u001b[0;36msetup\u001b[0;34m(self, link)\u001b[0m\n\u001b[1;32m    627\u001b[0m \u001b[0;34m\u001b[0m\u001b[0m\n\u001b[1;32m    628\u001b[0m     \u001b[0;32mdef\u001b[0m \u001b[0msetup\u001b[0m\u001b[0;34m(\u001b[0m\u001b[0mself\u001b[0m\u001b[0;34m,\u001b[0m \u001b[0mlink\u001b[0m\u001b[0;34m)\u001b[0m\u001b[0;34m:\u001b[0m\u001b[0;34m\u001b[0m\u001b[0m\n\u001b[0;32m--> 629\u001b[0;31m         \u001b[0msuper\u001b[0m\u001b[0;34m(\u001b[0m\u001b[0mGradientMethod\u001b[0m\u001b[0;34m,\u001b[0m \u001b[0mself\u001b[0m\u001b[0;34m)\u001b[0m\u001b[0;34m.\u001b[0m\u001b[0msetup\u001b[0m\u001b[0;34m(\u001b[0m\u001b[0mlink\u001b[0m\u001b[0;34m)\u001b[0m\u001b[0;34m\u001b[0m\u001b[0m\n\u001b[0m\u001b[1;32m    630\u001b[0m         \u001b[0;32mfor\u001b[0m \u001b[0mparam\u001b[0m \u001b[0;32min\u001b[0m \u001b[0mlink\u001b[0m\u001b[0;34m.\u001b[0m\u001b[0mparams\u001b[0m\u001b[0;34m(\u001b[0m\u001b[0;34m)\u001b[0m\u001b[0;34m:\u001b[0m\u001b[0;34m\u001b[0m\u001b[0m\n\u001b[1;32m    631\u001b[0m             \u001b[0mparam\u001b[0m\u001b[0;34m.\u001b[0m\u001b[0mupdate_rule\u001b[0m \u001b[0;34m=\u001b[0m \u001b[0mself\u001b[0m\u001b[0;34m.\u001b[0m\u001b[0mcreate_update_rule\u001b[0m\u001b[0;34m(\u001b[0m\u001b[0;34m)\u001b[0m\u001b[0;34m\u001b[0m\u001b[0m\n",
      "\u001b[0;32m~/anaconda3/envs/chainer_p36/lib/python3.6/site-packages/chainer/optimizer.py\u001b[0m in \u001b[0;36msetup\u001b[0;34m(self, link)\u001b[0m\n\u001b[1;32m    415\u001b[0m         \"\"\"\n\u001b[1;32m    416\u001b[0m         \u001b[0;32mif\u001b[0m \u001b[0;32mnot\u001b[0m \u001b[0misinstance\u001b[0m\u001b[0;34m(\u001b[0m\u001b[0mlink\u001b[0m\u001b[0;34m,\u001b[0m \u001b[0mlink_module\u001b[0m\u001b[0;34m.\u001b[0m\u001b[0mLink\u001b[0m\u001b[0;34m)\u001b[0m\u001b[0;34m:\u001b[0m\u001b[0;34m\u001b[0m\u001b[0m\n\u001b[0;32m--> 417\u001b[0;31m             \u001b[0;32mraise\u001b[0m \u001b[0mTypeError\u001b[0m\u001b[0;34m(\u001b[0m\u001b[0;34m'optimization target must be a link'\u001b[0m\u001b[0;34m)\u001b[0m\u001b[0;34m\u001b[0m\u001b[0m\n\u001b[0m\u001b[1;32m    418\u001b[0m         \u001b[0mself\u001b[0m\u001b[0;34m.\u001b[0m\u001b[0mtarget\u001b[0m \u001b[0;34m=\u001b[0m \u001b[0mlink\u001b[0m\u001b[0;34m\u001b[0m\u001b[0m\n\u001b[1;32m    419\u001b[0m         \u001b[0mself\u001b[0m\u001b[0;34m.\u001b[0m\u001b[0mt\u001b[0m \u001b[0;34m=\u001b[0m \u001b[0;36m0\u001b[0m\u001b[0;34m\u001b[0m\u001b[0m\n",
      "\u001b[0;31mTypeError\u001b[0m: optimization target must be a link"
     ]
    }
   ],
   "source": [
    "optimizer = chainer.optimizers.MomentumSGD(lr=1e-5)\n",
    "optimizer.setup(model)"
   ]
  },
  {
   "cell_type": "code",
   "execution_count": 24,
   "metadata": {},
   "outputs": [],
   "source": [
    "#device=0でGPU, device=-1でCPU\n",
    "updater = training.StandardUpdater(train_iter, optimizer, device=0)"
   ]
  },
  {
   "cell_type": "code",
   "execution_count": 25,
   "metadata": {},
   "outputs": [],
   "source": [
    "trainer = training.Trainer(updater, (n_epoch, 'epoch'), out=out_dir)\n",
    "\n",
    "trainer.extend(extensions.LogReport(trigger=report_interval))\n",
    "trainer.extend(extensions.PrintReport(['epoch', \n",
    "                                       'iteration', \n",
    "                                       'main/loss',\n",
    "                                       'main/accuracy', \n",
    "                                       'main/precision_0', \n",
    "                                       'main/precision_1',\n",
    "                                       'main/recall_0',\n",
    "                                       'main/recall_1']),\n",
    "               trigger=report_interval)\n",
    "trainer.extend(extensions.PlotReport(y_keys='main/loss', trigger=report_interval, file_name='vgg16_loss_plot_catdog.png'))\n",
    "trainer.extend(extensions.PlotReport(y_keys='main/accuracy', trigger=report_interval, file_name='vgg16_accuracy_plot_catdog.png'))"
   ]
  },
  {
   "cell_type": "code",
   "execution_count": 26,
   "metadata": {},
   "outputs": [
    {
     "name": "stdout",
     "output_type": "stream",
     "text": [
      "epoch       iteration   main/loss   main/accuracy  main/precision_0  main/precision_1  main/recall_0  main/recall_1\n",
      "\u001b[J0           10          1.17379     0.54375        0.0609575         0.979808          nan            0.537648       \n",
      "\u001b[J0           20          0.980657    0.875          0.0666667         0.975343          nan            0.894093       \n",
      "\u001b[J0           30          0.860448    0.83125        0.108333          0.963197          nan            0.856236       \n",
      "\u001b[J0           40          0.793127    0.7625         0.0705195         0.984681          nan            0.767652       \n",
      "\u001b[J0           50          0.785144    0.875          0.23381           0.978848          nan            0.88843        \n",
      "\u001b[J0           60          0.772388    0.859375       0.118333          0.99245           nan            0.862404       \n",
      "\u001b[J1           70          0.722532    0.875          nan               0.982695          nan            0.887093       \n",
      "\u001b[J1           80          0.71914     0.9            nan               0.975688          nan            0.918172       \n",
      "\u001b[J1           90          0.717196    0.871875       0.17              0.982503          nan            0.883769       \n",
      "\u001b[J1           100         0.688283    0.91875        0.15              0.979647          nan            0.935321       \n",
      "\u001b[J1           110         0.66694     0.909375       0.133333          0.989144          nan            0.916485       \n",
      "\u001b[J1           120         0.686604    0.925          nan               0.979189          nan            0.94062        \n",
      "\u001b[J2           130         0.679532    0.90625        0.136667          0.992725          nan            0.910759       \n",
      "\u001b[J2           140         0.661407    0.915625       0.2               0.979595          nan            0.931881       \n",
      "\u001b[J2           150         0.657288    0.90625        0.118333          0.972012          nan            0.927463       \n",
      "\u001b[J2           160         0.640121    0.94375        nan               0.990215          nan            0.952211       \n",
      "\u001b[J2           170         0.642141    0.94375        nan               0.98709           nan            0.954359       \n",
      "\u001b[J2           180         0.629482    0.953125       0.416667          0.983541          nan            0.96752        \n",
      "\u001b[J3           190         0.625245    0.953125       nan               0.977176          nan            0.973628       \n",
      "\u001b[J3           200         0.626476    0.9625         nan               0.990323          nan            0.971062       \n",
      "\u001b[J3           210         0.622568    0.965625       nan               0.983656          nan            0.980826       \n",
      "\u001b[J3           220         0.619318    0.946875       0.425             0.989878          nan            0.954711       \n",
      "\u001b[J3           230         0.628316    0.95           nan               0.989885          nan            0.957786       \n",
      "\u001b[J3           240         0.609845    0.9625         nan               0.993542          nan            0.968132       \n",
      "\u001b[J4           250         0.607701    0.95625        0.55              0.983096          nan            0.970603       \n",
      "\u001b[J4           260         0.603841    0.971875       nan               0.990323          nan            0.980108       \n",
      "\u001b[J4           270         0.600849    0.975          nan               0.986989          nan            0.987298       \n",
      "\u001b[J4           280         0.604129    0.959375       nan               0.983871          nan            0.974475       \n",
      "\u001b[J4           290         0.601817    0.9625         nan               0.990417          nan            0.970523       \n",
      "\u001b[J4           300         0.598318    0.965625       0.466667          0.993548          nan            0.971566       \n",
      "\u001b[J5           310         0.594948    0.978125       nan               0.993542          nan            0.983619       \n",
      "\u001b[J5           320         0.584526    0.996875       nan               1                 nan            0.996875       \n",
      "\u001b[J5           330         0.599382    0.959375       nan               0.976544          nan            0.9801         \n",
      "\u001b[J5           340         0.594807    0.971875       nan               0.986629          nan            0.983326       \n",
      "\u001b[J5           350         0.586158    0.98125        nan               0.993548          nan            0.986774       \n",
      "\u001b[J5           360         0.584229    0.984375       nan               0.993548          nan            0.990316       \n",
      "\u001b[J6           370         0.586154    0.975          nan               0.987298          nan            0.987399       \n",
      "\u001b[J6           380         0.592308    0.978125       nan               0.989978          nan            0.986975       \n",
      "\u001b[J6           390         0.578537    0.990625       nan               1                 nan            0.990524       \n",
      "\u001b[J6           400         0.583147    0.978125       nan               0.983749          nan            0.993333       \n",
      "\u001b[J6           410         0.57945     0.99375        nan               0.993441          nan            1              \n",
      "\u001b[J6           420         0.578575    0.978125       nan               0.993333          nan            0.98372        \n",
      "\u001b[J6           430         0.568234    0.996875       nan               0.996774          nan            1              \n",
      "\u001b[J7           440         0.565738    0.996875       nan               0.996774          nan            1              \n",
      "\u001b[J7           450         0.579549    0.984375       nan               0.993542          nan            0.990316       \n",
      "\u001b[J7           460         0.573246    0.975          nan               0.989993          nan            0.983743       \n",
      "\u001b[J7           470         0.569191    0.99375        nan               0.993649          nan            1              \n",
      "\u001b[J7           480         0.576985    0.98125        nan               0.984274          nan            0.996875       \n",
      "\u001b[J7           490         0.582519    0.978125       nan               0.981048          nan            0.996774       \n",
      "\u001b[J8           500         0.575085    0.984375       nan               0.990417          nan            0.99375        \n",
      "\u001b[J8           510         0.561897    0.990625       nan               0.993326          nan            0.996774       \n",
      "\u001b[J8           520         0.563456    0.99375        nan               0.993548          nan            1              \n",
      "\u001b[J8           530         0.567688    0.984375       nan               0.990215          nan            0.99375        \n",
      "\u001b[J8           540         0.563562    0.99375        nan               0.993649          nan            1              \n",
      "\u001b[J8           550         0.567988    0.990625       nan               0.990423          nan            1              \n",
      "\u001b[J9           560         0.569715    0.978125       nan               0.990323          nan            0.987097       \n",
      "\u001b[J9           570         0.56133     0.996875       nan               0.996774          nan            1              \n",
      "\u001b[J9           580         0.558175    0.996875       nan               1                 nan            0.996774       \n",
      "\u001b[J9           590         0.560392    0.9875         nan               0.987054          nan            1              \n",
      "\u001b[J9           600         0.560092    0.990625       nan               0.996552          nan            0.993542       \n",
      "\u001b[J9           610         0.559634    0.996875       nan               0.996875          nan            1              \n"
     ]
    }
   ],
   "source": [
    "trainer.run()"
   ]
  },
  {
   "cell_type": "markdown",
   "metadata": {},
   "source": [
    "# save\n",
    "#chainer.serializers.save_npz('./intern2019_finetune_submit.model', model)"
   ]
  },
  {
   "cell_type": "markdown",
   "metadata": {},
   "source": [
    "## Evaluate"
   ]
  },
  {
   "cell_type": "markdown",
   "metadata": {},
   "source": [
    "### 評価用データの準備\n",
    "評価用データを全部モデルに入力するとMemory Errorを起こすので一つずつモデルに入力させている"
   ]
  },
  {
   "cell_type": "code",
   "execution_count": 27,
   "metadata": {},
   "outputs": [],
   "source": [
    "X = []\n",
    "T = []\n",
    "for x, t in test_dataset:\n",
    "    X.append(x)\n",
    "    T.append(t)\n",
    "\n",
    "X = cp.array(X,dtype=np.float32).reshape(-1, 3, 224, 224)\n",
    "T = np.array(T,dtype=np.int32)"
   ]
  },
  {
   "cell_type": "code",
   "execution_count": 28,
   "metadata": {},
   "outputs": [],
   "source": [
    "Y=[]\n",
    "for i in range(len(X)):\n",
    "    Y.append([chainer.cuda.to_cpu(model(X[i].reshape(1,3,224,224)).data[0][0]),\n",
    "              chainer.cuda.to_cpu(model(X[i].reshape(1,3,224,224)).data[0][1])]) #cpuで演算できるようにする\n",
    "Y=np.array(Y)"
   ]
  },
  {
   "cell_type": "code",
   "execution_count": 41,
   "metadata": {},
   "outputs": [
    {
     "data": {
      "text/plain": [
       "array([0.24699964, 0.5847372 ], dtype=float32)"
      ]
     },
     "execution_count": 41,
     "metadata": {},
     "output_type": "execute_result"
    }
   ],
   "source": [
    "Y[1]"
   ]
  },
  {
   "cell_type": "markdown",
   "metadata": {},
   "source": [
    "### 結果のプロット\n",
    "- labelづけのみ\n",
    "- 単純な大小比較\n",
    "- 原点からの距離による比較"
   ]
  },
  {
   "cell_type": "code",
   "execution_count": 29,
   "metadata": {},
   "outputs": [],
   "source": [
    "sns.set()\n",
    "sns.set_style('whitegrid')\n",
    "sns.set_palette(\"winter_r\", 8, 1)"
   ]
  },
  {
   "cell_type": "code",
   "execution_count": 30,
   "metadata": {},
   "outputs": [
    {
     "data": {
      "image/png": "[encoded data removed]",
      "text/plain": [
       "<Figure size 720x720 with 1 Axes>"
      ]
     },
     "metadata": {},
     "output_type": "display_data"
    }
   ],
   "source": [
    "#labelづけ\n",
    "plt.figure(figsize=(10, 10))\n",
    "plt.scatter(Y[:,0], Y[:,1],c=T)\n",
    "plt.xlim(-8,8)\n",
    "plt.ylim(-8,8)\n",
    "plt.savefig('labeled_scatter.png')"
   ]
  },
  {
   "cell_type": "code",
   "execution_count": 31,
   "metadata": {},
   "outputs": [
    {
     "data": {
      "image/png": "[encoded data removed]",
      "text/plain": [
       "<Figure size 720x720 with 1 Axes>"
      ]
     },
     "metadata": {},
     "output_type": "display_data"
    }
   ],
   "source": [
    "#大小比較\n",
    "x=np.arange(-8,8,0.1)\n",
    "y=x\n",
    "plt.figure(figsize=(10, 10))\n",
    "plt.scatter(Y[:,0], Y[:,1],c=T)\n",
    "plt.plot(x,y,c='blue')\n",
    "plt.xlim(-8,8)\n",
    "plt.ylim(-8,8)\n",
    "plt.savefig('LD_labeled_scatter.png')"
   ]
  },
  {
   "cell_type": "code",
   "execution_count": 32,
   "metadata": {},
   "outputs": [
    {
     "data": {
      "image/png": "[encoded data removed]",
      "text/plain": [
       "<Figure size 720x720 with 1 Axes>"
      ]
     },
     "metadata": {},
     "output_type": "display_data"
    }
   ],
   "source": [
    "#原点からの距離\n",
    "import matplotlib.patches as pat\n",
    "fig=plt.figure(figsize=(10, 10))\n",
    "ax=fig.add_subplot(111)\n",
    "ax.scatter(Y[:,0], Y[:,1],c=T)\n",
    "c = pat.Circle(xy = (0, 0), radius = 6, color = \"blue\", fill=False)\n",
    "ax.add_patch(c)\n",
    "ax.set_xlim(-8,8)\n",
    "ax.set_ylim(-8,8)\n",
    "plt.savefig('distance_labeled_scatter.png')"
   ]
  },
  {
   "cell_type": "markdown",
   "metadata": {},
   "source": [
    "### recall, precision等の検証"
   ]
  },
  {
   "cell_type": "code",
   "execution_count": 33,
   "metadata": {},
   "outputs": [],
   "source": [
    "def get_stat(result_array, test_label, distance=1, ifPrint=True):\n",
    "    tp,tn,fp,fn=0,0,0,0\n",
    "    distance_from_origin=np.sqrt(np.sum(result_array**2, axis=1))\n",
    "    result_label=distance_from_origin<distance\n",
    "    if len(result_array)!=len(test_label):\n",
    "        raise ValueError('different dimension')\n",
    "    else:\n",
    "        for i in range(len(test_label)):\n",
    "            if test_label[i]==0 and result_label[i]==True:\n",
    "                tp+=1\n",
    "            elif test_label[i]!=0 and result_label[i]==True:\n",
    "                fp+=1\n",
    "            elif test_label[i]==0 and result_label[i]!=True:\n",
    "                fn+=1\n",
    "            else:\n",
    "                tn+=1\n",
    "    recall=tp/(tp+fn)\n",
    "    precision=tp/(tp+fp)\n",
    "    specificity=tn/(fp+tn)\n",
    "    accuracy=(tp+tn)/(tp+tn+fp+fn)    \n",
    "    if ifPrint:\n",
    "        print('distance =',distance)\n",
    "        print('TP:', tp, ' FP:', fp, ' TN:', tn, 'FN', fn)\n",
    "        print('recall:', recall)\n",
    "        print('precision', precision)\n",
    "        print('specificity:', specificity)\n",
    "        print('accuracy:', accuracy)\n",
    "    else:\n",
    "        return recall, precision, specificity, accuracy"
   ]
  },
  {
   "cell_type": "markdown",
   "metadata": {},
   "source": [
    "#### recall > 0.999のときのclssification summaryを表示"
   ]
  },
  {
   "cell_type": "code",
   "execution_count": 34,
   "metadata": {},
   "outputs": [
    {
     "name": "stdout",
     "output_type": "stream",
     "text": [
      "distance = 2.099999999999999\n",
      "TP: 4903  FP: 475  TN: 0 FN 4\n",
      "recall: 0.9991848379865498\n",
      "precision 0.9116772034213462\n",
      "specificity: 0.0\n",
      "accuracy: 0.9109996283909327\n"
     ]
    }
   ],
   "source": [
    "distance=0.1\n",
    "while(True):\n",
    "    ifPrint=False\n",
    "    tmp_recall, tmp_precision, tmp_specificity, tmp_accuracy=get_stat(Y,T,distance, ifPrint=ifPrint)\n",
    "    if tmp_recall>0.999:\n",
    "        ifPrint=True\n",
    "        get_stat(Y,T,distance,ifPrint=ifPrint)\n",
    "        break\n",
    "    distance+=0.01"
   ]
  },
  {
   "cell_type": "markdown",
   "metadata": {},
   "source": [
    "#### precision reacall curveを書く"
   ]
  },
  {
   "cell_type": "code",
   "execution_count": 35,
   "metadata": {},
   "outputs": [],
   "source": [
    "def get_recall_and_precision_value(result_array, test_label, distance=1):\n",
    "    tp,tn,fp,fn=0,0,0,0\n",
    "    distance_from_origin=np.sqrt(np.sum(result_array**2, axis=1))\n",
    "    result_label=distance_from_origin<distance\n",
    "    if len(result_array)!=len(test_label):\n",
    "        raise ValueError('different dimension')\n",
    "    else:\n",
    "        for i in range(len(test_label)):\n",
    "            if test_label[i]==0 and result_label[i]==True:\n",
    "                tp+=1\n",
    "            elif test_label[i]!=0 and result_label[i]==True:\n",
    "                fp+=1\n",
    "            elif test_label[i]==0 and result_label[i]!=True:\n",
    "                fn+=1\n",
    "            else:\n",
    "                tn+=1\n",
    "    recall=tp/(tp+fn)\n",
    "    precision=tp/(tp+fp)\n",
    "    return recall, precision"
   ]
  },
  {
   "cell_type": "code",
   "execution_count": 36,
   "metadata": {},
   "outputs": [
    {
     "name": "stdout",
     "output_type": "stream",
     "text": [
      "0.9117428465254552\n"
     ]
    }
   ],
   "source": [
    "chance_rate=len(T[T==0]) / len(T)\n",
    "print(chance_rate)"
   ]
  },
  {
   "cell_type": "code",
   "execution_count": 37,
   "metadata": {},
   "outputs": [],
   "source": [
    "recall_list,precision_list=[],[]\n",
    "distance=0.1\n",
    "while(True):\n",
    "    distance+=0.1\n",
    "    tmp_recall, tmp_precision=get_recall_and_precision_value(Y,T,distance=distance)\n",
    "    if tmp_precision==chance_rate:\n",
    "        break\n",
    "    recall_list.append(tmp_recall)\n",
    "    precision_list.append(tmp_precision)"
   ]
  },
  {
   "cell_type": "code",
   "execution_count": 38,
   "metadata": {},
   "outputs": [
    {
     "name": "stdout",
     "output_type": "stream",
     "text": [
      "chance_rate: 0.9117428465254552\n"
     ]
    },
    {
     "data": {
      "image/png": "[encoded data removed]",
      "text/plain": [
       "<Figure size 432x288 with 1 Axes>"
      ]
     },
     "metadata": {},
     "output_type": "display_data"
    }
   ],
   "source": [
    "print('chance_rate:', chance_rate)\n",
    "p=np.array(recall_list)\n",
    "r=np.array(precision_list)\n",
    "plt.plot(p,r,c='blue')\n",
    "plt.title('Precision and Recall curve')\n",
    "plt.vlines(0.999,1.01,0,'red')\n",
    "plt.ylim(chance_rate,1.01)\n",
    "plt.xlim(0.95,1.001)\n",
    "plt.xlabel('Recall')\n",
    "plt.ylabel('Precision')\n",
    "plt.savefig('precision_and_recall.png')"
   ]
  },
  {
   "cell_type": "code",
   "execution_count": null,
   "metadata": {},
   "outputs": [],
   "source": []
  },
  {
   "cell_type": "code",
   "execution_count": null,
   "metadata": {},
   "outputs": [],
   "source": []
  }
 ],
 "metadata": {
  "kernelspec": {
   "display_name": "Environment (conda_chainer_p36)",
   "language": "python",
   "name": "conda_chainer_p36"
  },
  "language_info": {
   "codemirror_mode": {
    "name": "ipython",
    "version": 3
   },
   "file_extension": ".py",
   "mimetype": "text/x-python",
   "name": "python",
   "nbconvert_exporter": "python",
   "pygments_lexer": "ipython3",
   "version": "3.6.5"
  }
 },
 "nbformat": 4,
 "nbformat_minor": 2
}
