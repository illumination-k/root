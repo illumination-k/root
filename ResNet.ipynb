{
 "cells": [
  {
   "cell_type": "code",
   "execution_count": 1,
   "metadata": {},
   "outputs": [],
   "source": [
    "import os\n",
    "from json import load\n",
    "import numpy as np\n",
    "import cupy as cp\n",
    "import matplotlib.pyplot as plt\n",
    "import seaborn as sns\n",
    "from PIL import Image\n",
    "\n",
    "import chainer\n",
    "import chainer.links as L\n",
    "import chainer.functions as F\n",
    "from chainer import cuda\n",
    "from chainer import optimizers\n",
    "from chainer import iterators\n",
    "from chainer import training\n",
    "from chainer.training import extensions\n",
    "from chainer import datasets\n",
    "from chainer.datasets import TransformDataset\n",
    "from chainer.datasets import LabeledImageDataset\n",
    "from functools import partial\n",
    "from chainercv import transforms"
   ]
  },
  {
   "cell_type": "code",
   "execution_count": 2,
   "metadata": {},
   "outputs": [],
   "source": [
    "train = LabeledImageDataset('/home/ubuntu/intern-winter-2019/dataset/simple_crop/train_data/train_label.csv',\n",
    "                            '/home/ubuntu/intern-winter-2019/dataset/simple_crop/train_data/images/',dtype=np.float32)\n",
    "test = LabeledImageDataset('/home/ubuntu/intern-winter-2019/dataset/simple_crop/test_data/test_label.csv',\n",
    "                            '/home/ubuntu/intern-winter-2019/dataset/simple_crop/test_data/images/',dtype=np.float32)"
   ]
  },
  {
   "cell_type": "code",
   "execution_count": 3,
   "metadata": {},
   "outputs": [],
   "source": [
    "def transform(data, train='False'):\n",
    "    img, label = data\n",
    "    img = img.copy()\n",
    "\n",
    "    # Color augmentation\n",
    "    if train:\n",
    "        img = transforms.pca_lighting(img, 76.5)\n",
    "\n",
    "    # Random flip & crop\n",
    "    if train:\n",
    "        img = transforms.random_flip(img, x_random=True)\n",
    "        img = transforms.random_expand(img, max_ratio=1.5)\n",
    "        img = transforms.random_crop(img, (200, 200))\n",
    "    img=np.array(img, dtype=np.float32)\n",
    "    img=L.model.vision.resnet.prepare(img)\n",
    "\n",
    "    return img, label"
   ]
  },
  {
   "cell_type": "code",
   "execution_count": 4,
   "metadata": {},
   "outputs": [],
   "source": [
    "train_dataset = TransformDataset(train, partial(transform, train=True))\n",
    "test_dataset = TransformDataset(test, partial(transform, train=False))"
   ]
  },
  {
   "cell_type": "code",
   "execution_count": null,
   "metadata": {},
   "outputs": [],
   "source": [
    "class Model(chainer.Chain):\n",
    "    def __init__(self, dim=2):\n",
    "        super(Model, self).__init__()\n",
    "        with self.init_scope():\n",
    "            self.res50=L.ResNet50Layers(None)\n",
    "            self.fc1=L.Linear(None, 2)\n",
    "            self.fc=L.Linear(None, dim)\n",
    "            \n",
    "    def __call__(self, x, train=False):\n",
    "        with chainer.using_config('train', train):\n",
    "            h=self.res50(x, layers=['fc6'])['fc6']\n",
    "            h=self.fc1(h)\n",
    "            h=F.relu(h)\n",
    "            h=F.normalize(h)*50\n",
    "            y=self.fc(h)\n",
    "        return y\n",
    "    \n",
    "class SoftMaxEntoropyLoss(chainer.Chain):\n",
    "    def __init__(self, model):\n",
    "        super(SoftMaxEntoropyLoss, self).__init__()\n",
    "        with self.init_scope():\n",
    "            self.model = model\n",
    "\n",
    "    def __call__(self, x, t):\n",
    "        y = self.model(x)\n",
    "        loss = F.softmax_cross_entropy(y, t)\n",
    "        accuracy = F.accuracy(y, t)\n",
    "        summary = F.classification_summary(y, t, beta = 1.0)\n",
    "        precision = summary[0]\n",
    "        recall = summary[1]\n",
    "        f_value = summary[2]\n",
    "        precision_dict=dict(('precision_%d' % i, val) for i, val in enumerate(summary[0]))\n",
    "        recall_dict=dict(('recall_%d' % i, val) for i, val in enumerate(summary[1]))\n",
    "        f_value_dict=dict(('f_value_%d' % i, val) for i, val in enumerate(summary[2]))\n",
    "        main_dict={'loss':loss, 'accuracy':accuracy}\n",
    "        main_dict.update(precision_dict)\n",
    "        main_dict.update(recall_dict)\n",
    "        main_dict.update(f_value_dict)\n",
    "        chainer.report(main_dict, self)\n",
    "        return loss"
   ]
  },
  {
   "cell_type": "code",
   "execution_count": 6,
   "metadata": {},
   "outputs": [],
   "source": [
    "# ResNet50の初期化 modelの作成\n",
    "res50 = L.ResNet50Layers(None)"
   ]
  },
  {
   "cell_type": "code",
   "execution_count": 7,
   "metadata": {},
   "outputs": [],
   "source": [
    "model=Model()\n",
    "loss=SoftMaxEntoropyLoss(model)"
   ]
  },
  {
   "cell_type": "code",
   "execution_count": 12,
   "metadata": {},
   "outputs": [],
   "source": [
    "n_epoch = 15\n",
    "batchsize = 32\n",
    "out_dir = './result/'\n",
    "report_interval = (10, 'iteration')\n",
    "\n",
    "train_iter = iterators.MultithreadIterator\\\n",
    "(train_dataset, batchsize, repeat=True, shuffle=True)\n",
    "test_iter = iterators.MultithreadIterator\\\n",
    "(test_dataset, batchsize, repeat=False, shuffle=False)"
   ]
  },
  {
   "cell_type": "code",
   "execution_count": 13,
   "metadata": {},
   "outputs": [
    {
     "data": {
      "text/plain": [
       "<chainer.optimizers.momentum_sgd.MomentumSGD at 0x7fba9ca7fa20>"
      ]
     },
     "execution_count": 13,
     "metadata": {},
     "output_type": "execute_result"
    }
   ],
   "source": [
    "#fine tuningなのでMomentumSDG\n",
    "optimizer = chainer.optimizers.MomentumSGD(lr=1e-6)\n",
    "optimizer.setup(loss)"
   ]
  },
  {
   "cell_type": "code",
   "execution_count": 14,
   "metadata": {},
   "outputs": [],
   "source": [
    "#device=0でGPU, device=-1でCPU\n",
    "updater = training.StandardUpdater(train_iter, optimizer, device=0)"
   ]
  },
  {
   "cell_type": "code",
   "execution_count": 15,
   "metadata": {},
   "outputs": [],
   "source": [
    "trainer = training.Trainer(updater, (n_epoch, 'epoch'), out=out_dir)\n",
    "\n",
    "trainer.extend(extensions.LogReport(trigger=report_interval))\n",
    "trainer.extend(extensions.PrintReport(['epoch', \n",
    "                                       'iteration', \n",
    "                                       'main/loss',\n",
    "                                       'main/accuracy', \n",
    "                                       'main/precision_0', \n",
    "                                       'main/precision_1',\n",
    "                                       'main/recall_0',\n",
    "                                       'main/recall_1']),\n",
    "               trigger=report_interval, file_name='resnet50_log')\n",
    "trainer.extend(extensions.PlotReport(y_keys='main/loss', trigger=report_interval, file_name='resnet50_loss.png'))\n",
    "trainer.extend(extensions.PlotReport(y_keys='main/accuracy', trigger=report_interval, file_name='resnet50_accuracy.png'))"
   ]
  },
  {
   "cell_type": "code",
   "execution_count": null,
   "metadata": {},
   "outputs": [
    {
     "name": "stdout",
     "output_type": "stream",
     "text": [
      "epoch       iteration   main/loss   main/accuracy  main/precision_0  main/precision_1  main/recall_0  main/recall_1\n",
      "\u001b[J0           10          0.376642    0.8625         0.125952          0.960769          nan            0.891105       \n",
      "\u001b[J0           20          0.377323    0.84375        0.0253968         0.968388          nan            0.867359       \n",
      "\u001b[J0           30          0.353108    0.884375       0.247619          0.976874          nan            0.904819       \n",
      "\u001b[J0           40          0.313793    0.91875        nan               0.969862          nan            0.944946       \n",
      "\u001b[J0           50          0.285427    0.94375        nan               0.97709           nan            0.964531       \n",
      "\u001b[J0           60          0.260501    0.928125       nan               0.973534          nan            0.951378       \n",
      "\u001b[J1           70          0.273547    0.915625       nan               0.96385           nan            0.948145       \n"
     ]
    }
   ],
   "source": [
    "trainer.run()"
   ]
  },
  {
   "cell_type": "code",
   "execution_count": null,
   "metadata": {},
   "outputs": [],
   "source": [
    "# save\n",
    "chainer.serializers.save_npz('./intern2019_resnet50_1.model', model)"
   ]
  },
  {
   "cell_type": "code",
   "execution_count": null,
   "metadata": {},
   "outputs": [],
   "source": []
  }
 ],
 "metadata": {
  "kernelspec": {
   "display_name": "Environment (conda_chainer_p36)",
   "language": "python",
   "name": "conda_chainer_p36"
  },
  "language_info": {
   "codemirror_mode": {
    "name": "ipython",
    "version": 3
   },
   "file_extension": ".py",
   "mimetype": "text/x-python",
   "name": "python",
   "nbconvert_exporter": "python",
   "pygments_lexer": "ipython3",
   "version": "3.6.5"
  }
 },
 "nbformat": 4,
 "nbformat_minor": 2
}
